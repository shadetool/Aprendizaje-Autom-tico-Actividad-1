{
  "nbformat": 4,
  "nbformat_minor": 0,
  "metadata": {
    "colab": {
      "provenance": []
    },
    "kernelspec": {
      "name": "python3",
      "display_name": "Python 3"
    },
    "language_info": {
      "name": "python"
    }
  },
  "cells": [
    {
      "cell_type": "code",
      "execution_count": 2,
      "metadata": {
        "colab": {
          "base_uri": "https://localhost:8080/"
        },
        "id": "aiaBcDKGLq_N",
        "outputId": "a695e3bc-ac95-46b1-ca13-441ef5058ab7"
      },
      "outputs": [
        {
          "output_type": "stream",
          "name": "stdout",
          "text": [
            "Requirement already satisfied: numpy in /usr/local/lib/python3.10/dist-packages (1.23.5)\n"
          ]
        }
      ],
      "source": [
        "!pip install numpy"
      ]
    },
    {
      "cell_type": "code",
      "source": [
        "import numpy as np\n",
        "\n",
        "# Coeficientes de las ecuaciones\n",
        "A = np.array([[1, 2, 5, -4],\n",
        "              [5, 8, 1, 1],\n",
        "              [5, 7, -3, 2],\n",
        "              [-1, 3, 9, -1]])\n",
        "\n",
        "# Términos independientes\n",
        "B = np.array([21, -8, 14, 15])\n",
        "\n",
        "# Solución del sistema\n",
        "solucion = np.linalg.solve(A, B)\n",
        "print(\"Solución del sistema:\")\n",
        "print(solucion)\n"
      ],
      "metadata": {
        "colab": {
          "base_uri": "https://localhost:8080/"
        },
        "id": "Siye8duXLt9m",
        "outputId": "102358d0-64bb-4a3c-f6b2-d2452cc43e3c"
      },
      "execution_count": 6,
      "outputs": [
        {
          "output_type": "stream",
          "name": "stdout",
          "text": [
            "Solución del sistema:\n",
            "[-65.50877193  46.57894737 -24.33333333 -28.75438596]\n"
          ]
        }
      ]
    },
    {
      "cell_type": "code",
      "source": [
        "import numpy as np\n",
        "import scipy.linalg as la\n",
        "\n",
        "# Coeficientes de las ecuaciones\n",
        "A = np.array([[1, 2, 5, -4],\n",
        "              [5, 8, 1, 1],\n",
        "              [5, 7, -3, 2],\n",
        "              [-1, 3, 9, -1]])\n",
        "\n",
        "# Términos independientes\n",
        "B = np.array([21, -8, 14, 15])\n",
        "\n",
        "# Factorización LU\n",
        "LU, P = la.lu_factor(A)\n",
        "\n",
        "# Solución del sistema\n",
        "solucion_lu = la.lu_solve((LU, P), B)\n",
        "print(\"Solución del sistema (Factorización LU):\")\n",
        "print(solucion_lu)\n"
      ],
      "metadata": {
        "colab": {
          "base_uri": "https://localhost:8080/"
        },
        "id": "mmMgcjvRME_6",
        "outputId": "5c295796-0f03-4ec4-92a5-14f38fe2ab0c"
      },
      "execution_count": 11,
      "outputs": [
        {
          "output_type": "stream",
          "name": "stdout",
          "text": [
            "Solución del sistema (Factorización LU):\n",
            "[-65.50877193  46.57894737 -24.33333333 -28.75438596]\n"
          ]
        }
      ]
    },
    {
      "cell_type": "code",
      "source": [
        "np.linalg.cond(A)"
      ],
      "metadata": {
        "colab": {
          "base_uri": "https://localhost:8080/"
        },
        "id": "89pcUzFHMTdb",
        "outputId": "099fde95-60ee-4cf2-c3f5-7cf450edaa91"
      },
      "execution_count": 8,
      "outputs": [
        {
          "output_type": "execute_result",
          "data": {
            "text/plain": [
              "55.92869379214312"
            ]
          },
          "metadata": {},
          "execution_count": 8
        }
      ]
    },
    {
      "cell_type": "code",
      "source": [],
      "metadata": {
        "id": "N306bzydNEFk"
      },
      "execution_count": null,
      "outputs": []
    }
  ]
}