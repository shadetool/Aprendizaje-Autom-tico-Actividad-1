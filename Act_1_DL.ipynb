{
  "nbformat": 4,
  "nbformat_minor": 0,
  "metadata": {
    "colab": {
      "provenance": [],
      "authorship_tag": "ABX9TyN3oeEFrGd1OFo3mvBwgEdY",
      "include_colab_link": true
    },
    "kernelspec": {
      "name": "python3",
      "display_name": "Python 3"
    },
    "language_info": {
      "name": "python"
    }
  },
  "cells": [
    {
      "cell_type": "markdown",
      "metadata": {
        "id": "view-in-github",
        "colab_type": "text"
      },
      "source": [
        "<a href=\"https://colab.research.google.com/github/shadetool/Aprendizaje-Autom-tico-Actividad-1/blob/main/Act_1_DL.ipynb\" target=\"_parent\"><img src=\"https://colab.research.google.com/assets/colab-badge.svg\" alt=\"Open In Colab\"/></a>"
      ]
    },
    {
      "cell_type": "code",
      "execution_count": 1,
      "metadata": {
        "id": "iqHJqO0tOZyu"
      },
      "outputs": [],
      "source": [
        "import pandas as pd\n",
        "\n",
        "def mcCullochPitts(inputs, weights, threshold):\n",
        "    # Calculamos la salida de la neurona McCulloch-Pitts\n",
        "    activation = sum([i * w for i, w in zip(inputs, weights)])\n",
        "    return 1 if activation >= threshold else 0\n",
        "\n"
      ]
    },
    {
      "cell_type": "code",
      "source": [
        "def generate_truth_table():\n",
        "    # Generamos todas las combinaciones posibles de entradas (4 variables binarias)\n",
        "    truth_table = []\n",
        "    for x1 in [0, 1]:\n",
        "        for x2 in [0, 1]:\n",
        "            for x3 in [0, 1]:\n",
        "                for x4 in [0, 1]:\n",
        "                    inputs = [x1, x2, x3, x4]\n",
        "                    truth_table.append(inputs)\n",
        "    return truth_table\n"
      ],
      "metadata": {
        "id": "iuAnkeuXOg1f"
      },
      "execution_count": 2,
      "outputs": []
    },
    {
      "cell_type": "code",
      "source": [
        "def main():\n",
        "    # Definimos los pesos y el umbral para la neurona McCulloch-Pitts\n",
        "    weights = [1, 1, -1, -1]\n",
        "    threshold = 2\n",
        "\n",
        "    # Generamos la tabla de verdad para las combinaciones de entradas\n",
        "    truth_table = generate_truth_table()\n",
        "\n",
        "    # Calculamos la salida para cada combinación de entradas\n",
        "    results = []\n",
        "    for inputs in truth_table:\n",
        "        output = mcCullochPitts(inputs, weights, threshold)\n",
        "        results.append(inputs + [output])\n",
        "\n",
        "    # Convertimos los resultados en un DataFrame de pandas para una visualización más fácil\n",
        "    df = pd.DataFrame(results, columns=['x1', 'x2', 'x3', 'x4', 'f(x1, x2, x3, x4)'])\n",
        "    print(df)\n",
        "\n",
        "# Ejecuta la función principal\n",
        "if __name__ == \"__main__\":\n",
        "    main()"
      ],
      "metadata": {
        "colab": {
          "base_uri": "https://localhost:8080/",
          "height": 0
        },
        "id": "4_F9tYTTOma8",
        "outputId": "b4d543a2-1a95-43e9-b4c7-8ef5e059e3aa"
      },
      "execution_count": 8,
      "outputs": [
        {
          "output_type": "stream",
          "name": "stdout",
          "text": [
            "    x1  x2  x3  x4  f(x1, x2, x3, x4)\n",
            "0    0   0   0   0                  0\n",
            "1    0   0   0   1                  0\n",
            "2    0   0   1   0                  0\n",
            "3    0   0   1   1                  0\n",
            "4    0   1   0   0                  0\n",
            "5    0   1   0   1                  0\n",
            "6    0   1   1   0                  0\n",
            "7    0   1   1   1                  0\n",
            "8    1   0   0   0                  0\n",
            "9    1   0   0   1                  0\n",
            "10   1   0   1   0                  0\n",
            "11   1   0   1   1                  0\n",
            "12   1   1   0   0                  1\n",
            "13   1   1   0   1                  0\n",
            "14   1   1   1   0                  0\n",
            "15   1   1   1   1                  0\n"
          ]
        }
      ]
    },
    {
      "cell_type": "code",
      "source": [],
      "metadata": {
        "id": "JjJDGgBxOzUx"
      },
      "execution_count": null,
      "outputs": []
    }
  ]
}