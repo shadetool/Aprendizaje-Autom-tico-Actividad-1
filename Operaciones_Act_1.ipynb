{
  "nbformat": 4,
  "nbformat_minor": 0,
  "metadata": {
    "colab": {
      "provenance": []
    },
    "kernelspec": {
      "name": "python3",
      "display_name": "Python 3"
    },
    "language_info": {
      "name": "python"
    }
  },
  "cells": [
    {
      "cell_type": "code",
      "execution_count": 1,
      "metadata": {
        "colab": {
          "base_uri": "https://localhost:8080/"
        },
        "id": "hDYNrP2S2GbK",
        "outputId": "e37999c0-9625-45e9-dbb5-6987be27e342"
      },
      "outputs": [
        {
          "output_type": "stream",
          "name": "stdout",
          "text": [
            "Requirement already satisfied: numpy in /usr/local/lib/python3.10/dist-packages (1.23.5)\n"
          ]
        }
      ],
      "source": [
        "!pip install numpy"
      ]
    },
    {
      "cell_type": "code",
      "source": [
        "import numpy as np\n",
        "\n",
        "# 1.- Generamos una matriz cuadrada de 4x4\n",
        "A = np.random.rand(4, 4)\n",
        "print(\"Matriz A (4x4):\")\n",
        "print(A)\n",
        "\n",
        "# 2.- Calculamos la inversa\n",
        "A_inv = np.linalg.inv(A)\n",
        "print(\"\\nInversa de A:\")\n",
        "print(A_inv)\n",
        "\n",
        "# 3.- Calculamos la traspuesta\n",
        "A_t = A.T\n",
        "print(\"\\nTraspuesta de A:\")\n",
        "print(A_t)\n",
        "\n",
        "# 4.- Multiplicamos la matriz por un escalar\n",
        "escalar = 5\n",
        "A_escalar = A * escalar\n",
        "print(\"\\nMatriz A multiplicada por el escalar\", escalar, \":\")\n",
        "print(A_escalar)\n",
        "\n",
        "# 5.- Realizamos el producto interno con una nueva matriz de dimensiones 4x2\n",
        "B = np.random.rand(4, 2)\n",
        "print(\"\\nMatriz B (4x2):\")\n",
        "print(B)\n",
        "\n",
        "producto_interno = np.dot(A, B)\n",
        "print(\"\\nProducto interno de A y B:\")\n",
        "print(producto_interno)\n"
      ],
      "metadata": {
        "colab": {
          "base_uri": "https://localhost:8080/"
        },
        "id": "LuMxGiqx2Xmx",
        "outputId": "3ceddf85-4c74-4952-d9fb-573a352bc1b6"
      },
      "execution_count": 3,
      "outputs": [
        {
          "output_type": "stream",
          "name": "stdout",
          "text": [
            "Matriz A (4x4):\n",
            "[[0.185928   0.2963447  0.36027766 0.80631419]\n",
            " [0.91212012 0.22972453 0.19849329 0.99892463]\n",
            " [0.53541144 0.56456116 0.28858571 0.89396689]\n",
            " [0.57992952 0.43393303 0.56157461 0.72820741]]\n",
            "\n",
            "Inversa de A:\n",
            "[[-1.90572399  0.95021651 -0.11221291  0.94441811]\n",
            " [-1.70853271 -1.58135965  3.37094578 -0.07723163]\n",
            " [ 0.70352689 -0.54415961 -2.17758407  2.6407295 ]\n",
            " [ 1.99323918  0.60522839 -0.24005962 -1.36932036]]\n",
            "\n",
            "Traspuesta de A:\n",
            "[[0.185928   0.91212012 0.53541144 0.57992952]\n",
            " [0.2963447  0.22972453 0.56456116 0.43393303]\n",
            " [0.36027766 0.19849329 0.28858571 0.56157461]\n",
            " [0.80631419 0.99892463 0.89396689 0.72820741]]\n",
            "\n",
            "Matriz A multiplicada por el escalar 5 :\n",
            "[[0.92964002 1.48172348 1.80138832 4.03157097]\n",
            " [4.56060059 1.14862266 0.99246644 4.99462315]\n",
            " [2.6770572  2.82280581 1.44292854 4.46983447]\n",
            " [2.89964761 2.16966513 2.80787306 3.64103704]]\n",
            "\n",
            "Matriz B (4x2):\n",
            "[[0.4017116  0.69932016]\n",
            " [0.00378027 0.76492795]\n",
            " [0.05882575 0.23627008]\n",
            " [0.12438819 0.1084964 ]]\n",
            "\n",
            "Producto interno de A y B:\n",
            "[[0.19729926 0.52931057]\n",
            " [0.50320859 0.96886446]\n",
            " [0.34539036 0.97144899]\n",
            " [0.35822024 0.94917507]]\n"
          ]
        }
      ]
    },
    {
      "cell_type": "code",
      "source": [],
      "metadata": {
        "id": "Op04dojY2gVf"
      },
      "execution_count": null,
      "outputs": []
    }
  ]
}